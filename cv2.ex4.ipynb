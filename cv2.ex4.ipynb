{
 "cells": [
  {
   "cell_type": "code",
   "execution_count": 15,
   "metadata": {},
   "outputs": [],
   "source": [
    "import cv2\n",
    "face_cascade  =  cv2.CascadeClassifier('haarcascade_frontalface_default.xml')\n",
    "\n",
    "img  =  cv2.imread('2.jpg')\n",
    "gray  =  cv2.cvtColor(img,cv2.COLOR_BGR2GRAY)\n",
    "\n",
    "faces  =  face_cascade.detectMultiScale(gray,scaleFactor=1.08,minNeighbors=5,minSize=(32,32))\n",
    "for(x,y,w,h)in  faces:\n",
    "    cv2.rectangle(img,(x,y),(x+w,y+h),(0,0,255),2)\n",
    "    \n",
    "cv2.namedWindow('img', cv2.WINDOW_NORMAL)\n",
    "cv2.imshow('img',img)\n",
    "cv2.imwrite(\"result.jpg\",img)\n",
    "cv2.waitKey(0)\n",
    "cv2.destroyAllWindows()"
   ]
  },
  {
   "cell_type": "code",
   "execution_count": 16,
   "metadata": {},
   "outputs": [
    {
     "data": {
      "text/plain": [
       "array([[ 359,  420,   48,   48],\n",
       "       [ 443,   35,  124,  124],\n",
       "       [ 553,  209,  118,  118],\n",
       "       [ 758,  646,  135,  135],\n",
       "       [ 261,  273,   70,   70],\n",
       "       [1000,  112,   82,   82],\n",
       "       [ 815,  170,  131,  131],\n",
       "       [ 262,  116,  142,  142]], dtype=int32)"
      ]
     },
     "execution_count": 16,
     "metadata": {},
     "output_type": "execute_result"
    }
   ],
   "source": [
    "faces"
   ]
  }
 ],
 "metadata": {
  "kernelspec": {
   "display_name": "Python 3",
   "language": "python",
   "name": "python3"
  },
  "language_info": {
   "codemirror_mode": {
    "name": "ipython",
    "version": 3
   },
   "file_extension": ".py",
   "mimetype": "text/x-python",
   "name": "python",
   "nbconvert_exporter": "python",
   "pygments_lexer": "ipython3",
   "version": "3.5.0"
  }
 },
 "nbformat": 4,
 "nbformat_minor": 2
}
