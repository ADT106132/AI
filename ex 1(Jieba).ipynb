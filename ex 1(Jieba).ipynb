{
 "cells": [
  {
   "cell_type": "code",
   "execution_count": 1,
   "metadata": {},
   "outputs": [
    {
     "name": "stderr",
     "output_type": "stream",
     "text": [
      "Building prefix dict from C:\\Users\\K410\\斷詞與文字雲\\dictionary\\dict.txt.big.txt ...\n",
      "Loading model from cache C:\\Users\\K410\\AppData\\Local\\Temp\\jieba.u5974aef769108f98cc4703bf3e6fa42d.cache\n",
      "Loading model cost 1.121 seconds.\n",
      "Prefix dict has been built succesfully.\n"
     ]
    },
    {
     "name": "stdout",
     "output_type": "stream",
     "text": [
      "停用詞:\"|;|,|，|。|來到\n",
      "去除停用:歡迎|數位內容科技學系|歡迎|加入|數位系籃\n",
      "預設模式:歡迎|來到|數位內容科技學系|，|歡迎|加入|數位系籃|。\n",
      "全文模式:歡迎|迎來|來到|數位|數位內容科技學系|內容|科技|學系|||歡迎|加入|數位|數位系|數位系籃||\n",
      "搜尋引擎:歡迎|來到|數位|內容|科技|學系|數位內容科技學系|，|歡迎|加入|數位|數位系|數位系籃|。\n"
     ]
    }
   ],
   "source": [
    "import jieba\n",
    "\n",
    "jieba.set_dictionary('dictionary/dict.txt.big.txt')\n",
    "\n",
    "jieba.load_userdict('dictionary/user_dict2.txt')\n",
    "\n",
    "with open('dictionary/stopword.txt', 'r', encoding='utf-8-sig') as file:\n",
    "    stops = file.read().split('\\n')\n",
    "print(\"停用詞:\"+'|' . join(stops))\n",
    "\n",
    "sentence = \"歡迎來到數位內容科技學系，\"\"歡迎加入數位系籃。\"\n",
    "breakword = jieba.cut(sentence, cut_all=False)\n",
    "final_words = []\n",
    "\n",
    "for word in breakword:\n",
    "    if word not in stops:\n",
    "        final_words.append(word)\n",
    "print(\"去除停用:\"+'|' . join(final_words))\n",
    "\n",
    "breakword = jieba.cut(sentence, cut_all=False)\n",
    "print(\"預設模式:\" + '|' . join(breakword))\n",
    "\n",
    "breakword = jieba.cut(sentence, cut_all=True)\n",
    "print(\"全文模式:\" + '|' . join(breakword))\n",
    "\n",
    "breakword = jieba.cut_for_search(sentence)\n",
    "print(\"搜尋引擎:\" + '|' . join(breakword))"
   ]
  }
 ],
 "metadata": {
  "kernelspec": {
   "display_name": "Python 3",
   "language": "python",
   "name": "python3"
  },
  "language_info": {
   "codemirror_mode": {
    "name": "ipython",
    "version": 3
   },
   "file_extension": ".py",
   "mimetype": "text/x-python",
   "name": "python",
   "nbconvert_exporter": "python",
   "pygments_lexer": "ipython3",
   "version": "3.5.0"
  }
 },
 "nbformat": 4,
 "nbformat_minor": 2
}
